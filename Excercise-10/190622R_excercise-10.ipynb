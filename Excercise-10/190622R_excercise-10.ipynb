{
 "cells": [
  {
   "cell_type": "code",
   "execution_count": 6,
   "metadata": {},
   "outputs": [
    {
     "name": "stdout",
     "output_type": "stream",
     "text": [
      "x_train =>  (50000, 32, 32, 3)\n"
     ]
    }
   ],
   "source": [
    "import numpy as np\n",
    "import tensorflow as tf\n",
    "from tensorflow import keras\n",
    "from tensorflow.keras.datasets import cifar10, mnist\n",
    "import matplotlib.pyplot as plt\n",
    "\n",
    "(x_train, y_train) ,(x_test, y_test) = cifar10.load_data()\n",
    "print(\"x_train => \", x_train.shape)"
   ]
  },
  {
   "cell_type": "code",
   "execution_count": 2,
   "metadata": {},
   "outputs": [
    {
     "ename": "ModuleNotFoundError",
     "evalue": "No module named 'cv2'",
     "output_type": "error",
     "traceback": [
      "\u001b[1;31m---------------------------------------------------------------------------\u001b[0m",
      "\u001b[1;31mModuleNotFoundError\u001b[0m                       Traceback (most recent call last)",
      "\u001b[1;32mc:\\Users\\USER\\OneDrive - University of Moratuwa\\Academics\\Semester 4\\EN2550 - Fundamentals of Image Processing and Machine Vision\\Image-Processing\\Excercise-10\\190622R_excercise-10.ipynb Cell 2'\u001b[0m in \u001b[0;36m<cell line: 1>\u001b[1;34m()\u001b[0m\n\u001b[1;32m----> <a href='vscode-notebook-cell:/c%3A/Users/USER/OneDrive%20-%20University%20of%20Moratuwa/Academics/Semester%204/EN2550%20-%20Fundamentals%20of%20Image%20Processing%20and%20Machine%20Vision/Image-Processing/Excercise-10/190622R_excercise-10.ipynb#ch0000001?line=0'>1</a>\u001b[0m \u001b[39mimport\u001b[39;00m \u001b[39mcv2\u001b[39;00m \u001b[39mas\u001b[39;00m \u001b[39mcv\u001b[39;00m\n",
      "\u001b[1;31mModuleNotFoundError\u001b[0m: No module named 'cv2'"
     ]
    }
   ],
   "source": [
    "import cv2 as cv\n"
   ]
  }
 ],
 "metadata": {
  "interpreter": {
   "hash": "1e90437b3dd140c9d6f268482e93ca0a6e5a614754528038c97edd2b7aaa9e67"
  },
  "kernelspec": {
   "display_name": "Python 3.9.12 ('tf')",
   "language": "python",
   "name": "python3"
  },
  "language_info": {
   "codemirror_mode": {
    "name": "ipython",
    "version": 3
   },
   "file_extension": ".py",
   "mimetype": "text/x-python",
   "name": "python",
   "nbconvert_exporter": "python",
   "pygments_lexer": "ipython3",
   "version": "3.9.12"
  },
  "orig_nbformat": 4
 },
 "nbformat": 4,
 "nbformat_minor": 2
}
