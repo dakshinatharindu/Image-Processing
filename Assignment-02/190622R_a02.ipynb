{
 "cells": [
  {
   "cell_type": "code",
   "execution_count": 271,
   "metadata": {},
   "outputs": [
    {
     "data": {
      "text/plain": [
       "(-13.2, 13.2, -11.861943580461263, 15.338009938901383)"
      ]
     },
     "execution_count": 271,
     "metadata": {},
     "output_type": "execute_result"
    },
    {
     "data": {
      "image/png": "[encoded data removed]",
      "text/plain": [
       "<Figure size 432x288 with 1 Axes>"
      ]
     },
     "metadata": {
      "needs_background": "light"
     },
     "output_type": "display_data"
    }
   ],
   "source": [
    "import numpy as np\n",
    "from scipy.optimize import minimize\n",
    "from scipy import linalg\n",
    "import matplotlib.pyplot as plt\n",
    "# np.random.seed(0)\n",
    "N = 100\n",
    "half_n = N//2\n",
    "r = 10\n",
    "s = r/16\n",
    "t = np.random.uniform(0, 2*np.pi, half_n)\n",
    "n = s*np.random.randn(half_n)\n",
    "x, y = (r + n)*np.cos(t), (r + n)*np.sin(t)\n",
    "X_circ = np.hstack((x.reshape(half_n, 1), y.reshape(half_n, 1)))\n",
    "m, b = -1, 2\n",
    "x = np.linspace(-12, 12, half_n)\n",
    "y = m*x + b + s*np.random.randn(half_n)\n",
    "X_line = np.hstack((x.reshape(half_n, 1), y.reshape(half_n, 1)))\n",
    "X = np.vstack((X_circ, X_line))\n",
    "\n",
    "plt.scatter(X[:,0], X[:,1])\n",
    "plt.axis('equal')"
   ]
  },
  {
   "cell_type": "code",
   "execution_count": 272,
   "metadata": {},
   "outputs": [
    {
     "name": "stdout",
     "output_type": "stream",
     "text": [
      "-inf\n",
      "1\n"
     ]
    },
    {
     "name": "stderr",
     "output_type": "stream",
     "text": [
      "/tmp/ipykernel_805/4048543437.py:30: RuntimeWarning: divide by zero encountered in double_scalars\n",
      "  N = np.log(1 - p) / (np.log(1 - e**n))\n"
     ]
    },
    {
     "data": {
      "image/png": "[encoded data removed]",
      "text/plain": [
       "<Figure size 432x288 with 1 Axes>"
      ]
     },
     "metadata": {
      "needs_background": "light"
     },
     "output_type": "display_data"
    }
   ],
   "source": [
    "threshold = 1.96*s\n",
    "n = X.shape[0]\n",
    "N = np.inf\n",
    "best_est = None\n",
    "S_in = []\n",
    "p = 0.9\n",
    "i = 0\n",
    "while N > i:\n",
    "    random_index = np.random.randint(n, size=3)\n",
    "    pt1, pt2, pt3 = X[random_index]\n",
    "\n",
    "    A = np.array([[pt2[0] - pt1[0], pt2[1] - pt1[1]], [pt3[0] - pt2[0], pt3[1] - pt2[1]]]) \n",
    "    B = np.array([[pt2[0]**2 - pt1[0]**2 + pt2[1]**2 - pt1[1]**2], [pt3[0]**2 - pt2[0]**2 + pt3[1]**2 - pt2[1]**2]])\t\t\n",
    "    inv_A = np.linalg.pinv(A)\n",
    "\n",
    "    a, b = np.dot(inv_A, B) / 2\n",
    "    a, b = a[0], b[0]\n",
    "    r = np.sqrt((a - pt1[0])**2 + (b - pt1[1])**2)\n",
    "\n",
    "    S_tst = []\n",
    "    for x, y in X:\n",
    "        dis = np.sqrt((x - a)**2 + (y - b)**2)\n",
    "        if (np.abs(dis - r) < threshold):\n",
    "            S_tst.append([x,y])\n",
    "    \n",
    "    if (len(S_tst) > len(S_in)):\n",
    "        best_est = (a, b, r)\n",
    "        S_in = S_tst\n",
    "        e = len(S_in)/n\n",
    "        N = np.log(1 - p) / (np.log(1 - e**n))\n",
    "        print(N)\n",
    "    i+=1\n",
    "\n",
    "a, b, r = best_est[0], best_est[1], best_est[2]\n",
    "S_in = np.array(S_in)\n",
    "print(i)\n",
    "plt.scatter(X[:, 0], X[:, 1], c='blue', marker='o', label='data')\n",
    "plt.scatter(S_in[:, 0], S_in[:, 1], c='red', marker='o', label='data')\n",
    "circle = plt.Circle((a, b), radius=r, color='r', fc='y', fill=False)\n",
    "plt.gca().add_patch(circle)\n",
    "\n",
    "plt.axis('scaled')\n",
    "\n",
    "plt.show()"
   ]
  }
 ],
 "metadata": {
  "interpreter": {
   "hash": "31f2aee4e71d21fbe5cf8b01ff0e069b9275f58929596ceb00d14d90e3e16cd6"
  },
  "kernelspec": {
   "display_name": "Python 3.8.10 64-bit",
   "language": "python",
   "name": "python3"
  },
  "language_info": {
   "codemirror_mode": {
    "name": "ipython",
    "version": 3
   },
   "file_extension": ".py",
   "mimetype": "text/x-python",
   "name": "python",
   "nbconvert_exporter": "python",
   "pygments_lexer": "ipython3",
   "version": "3.8.10"
  },
  "orig_nbformat": 4
 },
 "nbformat": 4,
 "nbformat_minor": 2
}
