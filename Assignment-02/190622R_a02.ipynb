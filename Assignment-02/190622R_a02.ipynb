{
 "cells": [
  {
   "cell_type": "code",
   "execution_count": 2,
   "metadata": {},
   "outputs": [
    {
     "data": {
      "text/plain": [
       "(-13.2, 13.2, -11.361985312699318, 15.307892571770452)"
      ]
     },
     "execution_count": 2,
     "metadata": {},
     "output_type": "execute_result"
    },
    {
     "data": {
      "image/png": "[encoded data removed]",
      "text/plain": [
       "<Figure size 432x288 with 1 Axes>"
      ]
     },
     "metadata": {
      "needs_background": "light"
     },
     "output_type": "display_data"
    }
   ],
   "source": [
    "import numpy as np\n",
    "from scipy.optimize import minimize\n",
    "from scipy import linalg\n",
    "import matplotlib.pyplot as plt\n",
    "# np.random.seed(0)\n",
    "N = 100\n",
    "half_n = N//2\n",
    "r = 10\n",
    "s = r/16\n",
    "t = np.random.uniform(0, 2*np.pi, half_n)\n",
    "n = s*np.random.randn(half_n)\n",
    "x, y = (r + n)*np.cos(t), (r + n)*np.sin(t)\n",
    "X_circ = np.hstack((x.reshape(half_n, 1), y.reshape(half_n, 1)))\n",
    "m, b = -1, 2\n",
    "x = np.linspace(-12, 12, half_n)\n",
    "y = m*x + b + s*np.random.randn(half_n)\n",
    "X_line = np.hstack((x.reshape(half_n, 1), y.reshape(half_n, 1)))\n",
    "X = np.vstack((X_circ, X_line))\n",
    "\n",
    "plt.scatter(X[:,0], X[:,1])\n",
    "plt.axis('equal')"
   ]
  },
  {
   "cell_type": "code",
   "execution_count": 49,
   "metadata": {},
   "outputs": [
    {
     "name": "stdout",
     "output_type": "stream",
     "text": [
      "0.2731258075741786 4.327212590879088 12.11840894143381\n"
     ]
    }
   ],
   "source": [
    "random_index = np.random.randint(X.shape[0], size=3)\n",
    "pt1, pt2, pt3 = X[random_index]\n",
    "\n",
    "A = np.array([[pt2[0] - pt1[0], pt2[1] - pt1[1]], [pt3[0] - pt2[0], pt3[1] - pt2[1]]]) \n",
    "B = np.array([[pt2[0]**2 - pt1[0]**2 + pt2[1]**2 - pt1[1]**2], [pt3[0]**2 - pt2[0]**2 + pt3[1]**2 - pt2[1]**2]])\t\t\n",
    "inv_A = np.linalg.pinv(A)\n",
    "\n",
    "c_x, c_y = np.dot(inv_A, B) / 2\n",
    "c_x, c_y = c_x[0], c_y[0]\n",
    "r = np.sqrt((c_x - pt1[0])**2 + (c_y - pt1[1])**2)\n",
    "print(c_x, c_y, r)"
   ]
  }
 ],
 "metadata": {
  "interpreter": {
   "hash": "31f2aee4e71d21fbe5cf8b01ff0e069b9275f58929596ceb00d14d90e3e16cd6"
  },
  "kernelspec": {
   "display_name": "Python 3.8.10 64-bit",
   "language": "python",
   "name": "python3"
  },
  "language_info": {
   "codemirror_mode": {
    "name": "ipython",
    "version": 3
   },
   "file_extension": ".py",
   "mimetype": "text/x-python",
   "name": "python",
   "nbconvert_exporter": "python",
   "pygments_lexer": "ipython3",
   "version": "3.8.10"
  },
  "orig_nbformat": 4
 },
 "nbformat": 4,
 "nbformat_minor": 2
}
