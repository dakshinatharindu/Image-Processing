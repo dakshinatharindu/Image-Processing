{
 "cells": [
  {
   "cell_type": "markdown",
   "metadata": {},
   "source": [
    "# OTSU's Thresholding"
   ]
  },
  {
   "cell_type": "code",
   "execution_count": 1,
   "metadata": {},
   "outputs": [
    {
     "name": "stdout",
     "output_type": "stream",
     "text": [
      "1 0.0 3.0000000000000004\n",
      "2 0.31999999999999995 3.695652173913044\n",
      "3 0.6 4.166666666666667\n",
      "4 1.105263157894737 5.099999999999999\n",
      "5 1.2500000000000002 5.374999999999998\n",
      "6 1.666666666666667 5.999999999999989\n",
      "3\n"
     ]
    }
   ],
   "source": [
    "import numpy as np\n",
    "def compute_otsu_criteria(im, th):\n",
    "    img = im.flatten()\n",
    "    L = max(img) + 1\n",
    "\n",
    "    hist, _ = np.histogram(img, L)\n",
    "    hist = hist / img.size\n",
    "\n",
    "    w0 = sum(hist[:th])\n",
    "    w1 = 1 - w0\n",
    "    if w0 == 0 or w1 == 0:\n",
    "        return 0\n",
    "    mu1 = sum([i*hist[i] for i in range(th)]) / w0\n",
    "    mu2 = sum([i*hist[i] for i in range(th, L)]) / w1\n",
    "    print(th, mu1, mu2)\n",
    "\n",
    "    return  w0*w1*(mu1 - mu2)**2\n",
    "\n",
    "im = np.array([0,0,0,1,3,1,0,0,0,2,0,0,3,0,0,0,2,1,4,5,4,5,2,0,0,1,6,6,5,5,3,2,0,1,3,5,6,3,2,1,0,1,3,3,3,0,0,1])\n",
    "# For testing purposes, one can use for example im = np.random.randint(0,255, size = (50,50))\n",
    "\n",
    "# testing all thresholds from 0 to the maximum of the image\n",
    "threshold_range = range(np.max(im)+1)\n",
    "criterias = [compute_otsu_criteria(im, th) for th in threshold_range]\n",
    "\n",
    "# best threshold is the one minimizing the Otsu criteria\n",
    "best_threshold = threshold_range[np.argmax(criterias)]\n",
    "print(best_threshold)"
   ]
  }
 ],
 "metadata": {
  "kernelspec": {
   "display_name": "Python 3.8.5 ('base')",
   "language": "python",
   "name": "python3"
  },
  "language_info": {
   "codemirror_mode": {
    "name": "ipython",
    "version": 3
   },
   "file_extension": ".py",
   "mimetype": "text/x-python",
   "name": "python",
   "nbconvert_exporter": "python",
   "pygments_lexer": "ipython3",
   "version": "3.8.13"
  },
  "orig_nbformat": 4,
  "vscode": {
   "interpreter": {
    "hash": "263930470851f494f0ed2879c35b57985588df20f9e529b86e97dd5eb9ddc466"
   }
  }
 },
 "nbformat": 4,
 "nbformat_minor": 2
}
